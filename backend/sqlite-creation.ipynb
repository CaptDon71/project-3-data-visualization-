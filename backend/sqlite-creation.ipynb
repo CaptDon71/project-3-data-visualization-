{
 "cells": [
  {
   "cell_type": "code",
   "execution_count": 1,
   "metadata": {},
   "outputs": [],
   "source": [
    "# Basic Imports\n",
    "from sqlalchemy import create_engine, text\n",
    "import pandas as pd\n",
    "import sqlite3 as sql3\n",
    "\n",
    "# Importing Processed Data CSV\n",
    "strike_data = pd.read_csv(\"./processed-data/strike-data.csv\")\n",
    "airport_data = pd.read_csv(\"./processed-data/airport-locations.csv\")"
   ]
  },
  {
   "cell_type": "code",
   "execution_count": 2,
   "metadata": {},
   "outputs": [],
   "source": [
    "database_path = 'processed-data/birdstrike_db.sqlite'\n",
    "\n",
    "db_con = sql3.connect(database_path)\n",
    "cursor = db_con.cursor()\n",
    "\n",
    "cursor.execute('''CREATE TABLE IF NOT EXISTS Birdstrikes (\n",
    "                INDEX_NR INT PRIMARY KEY,\n",
    "                AIRCRAFT TEXT,\n",
    "                AIRPORT TEXT,\n",
    "                NUM_STRUCK INT,\n",
    "                EFFECT TEXT,\n",
    "                INCIDENT_DATE TEXT,\n",
    "                DAMAGE_LEVEL TEXT,\n",
    "                NUM_ENGS FLOAT,\n",
    "                OPID INT,\n",
    "                STATE TEXT,\n",
    "                PHASE_OF_FLIGHT TEXT,\n",
    "                PRECIPITATION TEXT,\n",
    "                REMAINS_COLLECTED INT,\n",
    "                REMAINS_SENT INT,\n",
    "                REMARKS TEXT,\n",
    "                SIZE TEXT,\n",
    "                SKY TEXT,\n",
    "                SPECIES TEXT,\n",
    "                WARNED TEXT,\n",
    "                COST_REPAIRS FLOAT,\n",
    "                COST_OTHER FLOAT,\n",
    "                COST_REPAIRS_INFL_ADJ FLOAT, \n",
    "                COST_OTHER_INFL_ADJ FLOAT, \n",
    "                HEIGHT FLOAT,\n",
    "                DISTANCE FLOAT\n",
    "            )''')\n",
    "\n",
    "cursor.execute('''CREATE TABLE IF NOT EXISTS Airports(\n",
    "               AIRPORT TEXT PRIMARY KEY,\n",
    "               AIRPORT_LATITUDE FLOAT,\n",
    "               AIRPORT_LONGITUDE FLOAT,\n",
    "               RANKING FLOAT\n",
    "            )''')\n",
    "\n",
    "db_con.commit()\n",
    "\n",
    "db_con.close()"
   ]
  },
  {
   "cell_type": "code",
   "execution_count": 3,
   "metadata": {},
   "outputs": [
    {
     "name": "stdout",
     "output_type": "stream",
     "text": [
      "2024-12-11 17:03:55,367 INFO sqlalchemy.engine.Engine BEGIN (implicit)\n",
      "2024-12-11 17:03:55,433 INFO sqlalchemy.engine.Engine PRAGMA main.table_info(\"Birdstrikes\")\n",
      "2024-12-11 17:03:55,435 INFO sqlalchemy.engine.Engine [raw sql] ()\n",
      "2024-12-11 17:03:59,730 INFO sqlalchemy.engine.Engine INSERT INTO \"Birdstrikes\" (\"INDEX_NR\", \"AIRCRAFT\", \"AIRPORT\", \"NUM_STRUCK\", \"EFFECT\", \"INCIDENT_DATE\", \"DAMAGE_LEVEL\", \"NUM_ENGS\", \"OPID\", \"STATE\", \"PHASE_OF_FLIGHT\", \"PRECIPITATION\", \"REMAINS_COLLECTED\", \"REMAINS_SENT\", \"REMARKS\", \"SIZE\", \"SKY\", \"SPECIES\", \"WARNED\", \"COST_REPAIRS\", \"COST_OTHER\", \"COST_REPAIRS_INFL_ADJ\", \"COST_OTHER_INFL_ADJ\", \"HEIGHT\", \"DISTANCE\") VALUES (?, ?, ?, ?, ?, ?, ?, ?, ?, ?, ?, ?, ?, ?, ?, ?, ?, ?, ?, ?, ?, ?, ?, ?, ?)\n",
      "2024-12-11 17:03:59,739 INFO sqlalchemy.engine.Engine [generated in 3.57647s] [(608242, 'B-737-300', 'SACRAMENTO INTL', '1', 'No Effect Or Unknown', '1996-06-22', 'Unknown Damage', 2.0, 'UAL', 'CA', 'Take-off Run', 'Unknown Precipitation', 0, 0, 'BLOOD ON L FWD NOSE AREA SEEN BY CREW AFTER LDG.', 'Medium', 'Unknown Conditions', 'Unknown bird - medium', 'Unknown', None, None, None, None, 0.0, 0.0), (608243, 'B-737-300', 'DENVER INTL AIRPORT', '1', 'No Effect Or Unknown', '1996-06-26', 'Unknown Damage', 2.0, 'UAL', 'CO', 'Take-off Run', 'Unknown Precipitation', 0, 0, 'CREW SUSPECTED BIRDSTRIKE ON T/O. LOOKED LIKE IT MIGHT HAVE HIT L ENG. LOGBOOK ENTRY. NOTIFIED DISPATCH.', 'Medium', 'Unknown Conditions', 'Unknown bird - medium', 'Unknown', None, None, None, None, 0.0, 0.0), (608244, 'B-757-200', 'EPPLEY AIRFIELD', '1', 'No Effect Or Unknown', '1996-07-01', 'No Damage', 2.0, 'UAL', 'NE', 'Take-off Run', 'Unknown Precipitation', 0, 0, 'BIRDSTRIKE AT ROTATION. INSPN. NO DMG.', 'Medium', 'Unknown Conditions', 'Unknown bird - medium', 'Unknown', None, None, None, None, 0.0, 0.0), (608245, 'A-320', 'WASHINGTON DULLES INTL ARPT', '1', 'No Effect Or Unknown', '1996-07-01', 'No Damage', 2.0, 'UAL', 'DC', 'Approach', 'Unknown Precipitation', 0, 0, 'ON FINAL APCH, STRIKE UNDER THE NOSE OF THE COCKPIT. NO DAMAGE. LOGBOOK ENTRY. MX INSPN.', 'Medium', 'Unknown Conditions', 'Unknown bird - medium', 'Unknown', None, None, None, None, 1000.0, None), (608246, 'A-320', 'LA GUARDIA ARPT', '1', 'No Effect Or Unknown', '1996-07-01', 'Minor Damage', 2.0, 'UAL', 'NY', 'Climb', 'Unknown Precipitation', 0, 0, 'LOUD NOISE WAS HEARD DURING CLIMBOUT THAT SOUNDED LIKE A POSSIBLE BIRDSTRIKE.  ABOUT 2 MINS LATER, A SMELL WAS NOTIED FROM AIRVENTS IN COCKPIT. MX FOUND  HAND-SIZED DENT ON R SIDE OF COCKPIT.', 'Medium', 'Unknown Conditions', 'Unknown bird - medium', 'Unknown', None, None, None, None, 5000.0, None), (608247, 'B-727-100', 'SAN ANTONIO INTL', '1', 'No Effect Or Unknown', '1991-05-06', 'No Damage', 3.0, 'AAL', 'TX', 'Take-off Run', 'Unknown Precipitation', 0, 0, 'NO DAMAGE/INJURY. TIME = 1125 GMT', 'Medium', 'No Cloud', 'Unknown bird - medium', 'No', None, None, None, None, 0.0, 0.0), (608248, 'BE-1900', 'KANSAS CITY INTL', '11-100', 'No Effect Or Unknown', '1993-11-05', 'Unknown Damage', 2.0, 'AMW', 'MO', 'Approach', 'Unknown Precipitation', 0, 0, 'ATIS WARNING. STRUCK NUMEROUS OTHER PARTS OF A/C. TIME = 1245UTC.', 'Medium', 'Overcast', 'Unknown bird - medium', 'Yes', None, None, None, None, 1500.0, None), (608249, 'B-737-500', 'KANSAS CITY INTL', '1', 'No Effect Or Unknown', '1995-07-02', 'No Damage', 2.0, 'UAL', 'MO', 'Landing Roll', 'Unknown Precipitation', 0, 0, 'STRIKE ON NOSE IMMEDIATELY AFTER LANDING. STRUCK NOSE, BOUNCED OFF WINDSHIELD AND WENT OVER THE TOP OF THE A/C. NO VISIBLE SIGNS OF DAMAGE.', 'Medium', 'Unknown Conditions', 'Unknown bird - medium', 'Unknown', None, None, None, None, 0.0, 0.0)  ... displaying 10 of 269925 total bound parameter sets ...  (1578048, 'B-737-8', 'RONALD REAGAN WASHINGTON NATIONAL ARPT', '1', 'No Effect Or Unknown', '2024-08-23', 'Unknown Damage', 2.0, 'AAL', 'DC', 'Climb', 'Unknown Precipitation', 1, 0, \"FAA Tower notified Airport Operations that AAL1251 struck a small bird on departure at 200' AGL.  The aircraft reported no effect on flight and conti ... (114 characters truncated) ...  departure end of RWY1 and placed it in the USDA Wildlife Biologist's freezer. Model: 737-8. Engine Manufacturer: CFM INTL. Engine Model: LEAP-1B25. \", 'Small', 'Some Cloud', 'Chimney swift', 'Yes', None, None, None, None, 200.0, None), (1578049, 'C-550', 'DAYTONA BEACH INTL', '1', 'No Effect Or Unknown', '2024-11-21', 'Unknown Damage', 2.0, 'BUS', 'FL', 'Take-off Run', 'Unknown Precipitation', 1, 1, 'ATC reported a bird strike involving N999QH upon take-off from RWY 25R adj to N6. 310 and 304 responded, found a Juvenile Eagle Carcass on centerline ... (335 characters truncated) ... PIC stated dent on Right Wing - Aircraft still operable. TWO PHOTOS.Smithsonian Wildlife/Species Identification:Bald eagle (Haliaeetus leucocephalus)', 'Large', 'No Cloud', 'Bald eagle', 'Yes', None, None, None, None, 0.0, 0.0)]\n",
      "2024-12-11 17:04:02,219 INFO sqlalchemy.engine.Engine SELECT name FROM sqlite_master WHERE type='table' AND name NOT LIKE 'sqlite~_%' ESCAPE '~' ORDER BY name\n",
      "2024-12-11 17:04:02,221 INFO sqlalchemy.engine.Engine [raw sql] ()\n",
      "2024-12-11 17:04:02,226 INFO sqlalchemy.engine.Engine COMMIT\n",
      "2024-12-11 17:04:02,328 INFO sqlalchemy.engine.Engine BEGIN (implicit)\n",
      "2024-12-11 17:04:02,335 INFO sqlalchemy.engine.Engine PRAGMA main.table_info(\"Airports\")\n",
      "2024-12-11 17:04:02,337 INFO sqlalchemy.engine.Engine [raw sql] ()\n",
      "2024-12-11 17:04:02,366 INFO sqlalchemy.engine.Engine INSERT INTO \"Airports\" (\"AIRPORT\", \"AIRPORT_LATITUDE\", \"AIRPORT_LONGITUDE\", \"RANKING\") VALUES (?, ?, ?, ?)\n",
      "2024-12-11 17:04:02,367 INFO sqlalchemy.engine.Engine [generated in 0.01595s] [('SACRAMENTO INTL', 38.69542, -121.59077, 8.0), ('DENVER INTL AIRPORT', 39.85841, -104.667, 1.0), ('EPPLEY AIRFIELD', 41.30252, -95.89417, 39.0), ('WASHINGTON DULLES INTL ARPT', 38.94453, -77.45581, 25.0), ('LA GUARDIA ARPT', 40.77724, -73.87261, 11.0), ('SAN ANTONIO INTL', 29.53369, -98.46978, 45.0), ('KANSAS CITY INTL', 39.29761, -94.71391, 14.0), ('DALLAS/FORT WORTH INTL ARPT', 32.89595, -97.0372, 2.0)  ... displaying 10 of 2678 total bound parameter sets ...  ('WOODS AND LAKES AIRPARK', 29.1235903, -81.8870278, 1786.0), ('SOMERSET AIRPORT', 40.6259806, -74.6700316, 1786.0)]\n",
      "2024-12-11 17:04:02,389 INFO sqlalchemy.engine.Engine SELECT name FROM sqlite_master WHERE type='table' AND name NOT LIKE 'sqlite~_%' ESCAPE '~' ORDER BY name\n",
      "2024-12-11 17:04:02,391 INFO sqlalchemy.engine.Engine [raw sql] ()\n",
      "2024-12-11 17:04:02,394 INFO sqlalchemy.engine.Engine COMMIT\n"
     ]
    }
   ],
   "source": [
    "engine = create_engine(f\"sqlite:///{database_path}\", echo=True)\n",
    "connection = engine.connect()\n",
    "\n",
    "strike_data.to_sql(\"Birdstrikes\", con=connection, if_exists=\"append\", index=False)\n",
    "airport_data.to_sql(\"Airports\", con=connection, if_exists=\"append\", index=False)\n",
    "\n",
    "connection.commit()\n",
    "connection.close()\n",
    "engine.dispose()"
   ]
  }
 ],
 "metadata": {
  "kernelspec": {
   "display_name": "base",
   "language": "python",
   "name": "python3"
  },
  "language_info": {
   "codemirror_mode": {
    "name": "ipython",
    "version": 3
   },
   "file_extension": ".py",
   "mimetype": "text/x-python",
   "name": "python",
   "nbconvert_exporter": "python",
   "pygments_lexer": "ipython3",
   "version": "3.11.7"
  }
 },
 "nbformat": 4,
 "nbformat_minor": 2
}
