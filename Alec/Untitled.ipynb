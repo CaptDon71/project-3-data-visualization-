{
 "cells": [
  {
   "cell_type": "code",
   "execution_count": 1,
   "id": "a76a1bd2",
   "metadata": {},
   "outputs": [],
   "source": [
    "import csv\n",
    "import json\n",
    "\n",
    "# Path to your CSV file\n",
    "csv_file_path = 'Bird_strikes_final_cleaned2.csv'\n",
    "json_file_path = 'Bird_strikes.json'\n",
    "\n",
    "# Function to convert CSV to JSON\n",
    "def csv_to_json(csv_file_path, json_file_path):\n",
    "    # Open CSV file\n",
    "    with open(csv_file_path, mode='r', newline='', encoding='utf-8') as csv_file:\n",
    "        # Create a CSV reader object\n",
    "        csv_reader = csv.DictReader(csv_file)\n",
    "        \n",
    "        # Convert CSV rows to a list of dictionaries\n",
    "        rows = list(csv_reader)\n",
    "        \n",
    "        # Open JSON file and write the data\n",
    "        with open(json_file_path, mode='w', encoding='utf-8') as json_file:\n",
    "            json.dump(rows, json_file, indent=4)\n",
    "\n",
    "# Call the function to convert CSV to JSON\n",
    "csv_to_json(csv_file_path, json_file_path)\n"
   ]
  },
  {
   "cell_type": "code",
   "execution_count": null,
   "id": "bb97aa88",
   "metadata": {},
   "outputs": [],
   "source": []
  }
 ],
 "metadata": {
  "kernelspec": {
   "display_name": "Python 3 (ipykernel)",
   "language": "python",
   "name": "python3"
  },
  "language_info": {
   "codemirror_mode": {
    "name": "ipython",
    "version": 3
   },
   "file_extension": ".py",
   "mimetype": "text/x-python",
   "name": "python",
   "nbconvert_exporter": "python",
   "pygments_lexer": "ipython3",
   "version": "3.12.3"
  }
 },
 "nbformat": 4,
 "nbformat_minor": 5
}
